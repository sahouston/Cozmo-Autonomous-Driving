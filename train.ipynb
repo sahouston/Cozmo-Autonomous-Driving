{
 "cells": [
  {
   "cell_type": "code",
   "execution_count": null,
   "metadata": {},
   "outputs": [],
   "source": [
    "from __future__ import absolute_import\n",
    "from __future__ import print_function\n",
    "import os\n",
    "\n",
    "\n",
    "os.environ['KERAS_BACKEND'] = 'theano'\n",
    "os.environ['THEANO_FLAGS']='mode=FAST_RUN,device=cuda0,floatX=float32,optimizer=None'\n",
    "\n",
    "\n",
    "import keras\n",
    "import keras.models as models\n",
    "\n",
    "from keras.models import Sequential, Model\n",
    "from keras.layers.core import Dense, Dropout, Activation, Flatten, Reshape\n",
    "from keras.layers import BatchNormalization,Input\n",
    "from keras.layers.recurrent import SimpleRNN, LSTM\n",
    "from keras.layers.convolutional import Convolution2D\n",
    "from keras.optimizers import SGD, Adam, RMSprop\n",
    "import sklearn.metrics as metrics\n",
    "\n",
    "from keras.callbacks import ModelCheckpoint\n",
    "\n",
    "import cv2\n",
    "import numpy as np\n",
    "import json\n",
    "\n",
    "# from Dan Does Data VLOG\n",
    "import math\n",
    "import h5py\n",
    "import glob\n",
    "from tqdm import tqdm\n",
    "import scipy\n",
    "from scipy import misc\n",
    "\n",
    "import matplotlib.pyplot as plt\n",
    "plt.ion()\n",
    "%matplotlib inline\n",
    "\n",
    "ndata = 0\n",
    "imgsize = 128\n",
    "# frame size\n",
    "nrows = 128\n",
    "ncols = 128"
   ]
  },
  {
   "cell_type": "code",
   "execution_count": null,
   "metadata": {},
   "outputs": [],
   "source": [
    "imgs = np.load('data/20190106-213038-images.npz')['arr_0']\n",
    "targets = np.load('data/20190106-213038-steer.npz')['arr_0']"
   ]
  },
  {
   "cell_type": "code",
   "execution_count": null,
   "metadata": {},
   "outputs": [],
   "source": [
    "idx = 0\n",
    "imgplot = plt.imshow(imgs[idx,0,:].astype(np.float32), cmap=\"gray\")\n",
    "print(f'steer: {targets[idx]}')"
   ]
  },
  {
   "cell_type": "code",
   "execution_count": null,
   "metadata": {},
   "outputs": [],
   "source": [
    "# Shuffle images and steering targets\n",
    "idx = np.arange(0,imgs.shape[0])\n",
    "idx = np.random.permutation(idx)\n",
    "imgs = imgs[idx,:,:,:]\n",
    "targets = targets[idx]"
   ]
  },
  {
   "cell_type": "code",
   "execution_count": null,
   "metadata": {},
   "outputs": [],
   "source": [
    "# load the model:\n",
    "model = Sequential()\n",
    "with open('autopilot_basic_model.json') as model_file:\n",
    "    model = models.model_from_json(model_file.read())\n"
   ]
  },
  {
   "cell_type": "code",
   "execution_count": null,
   "metadata": {},
   "outputs": [],
   "source": [
    "# checkpoint\n",
    "filepath=\"weights/weights.best.hdf5\"\n",
    "checkpoint = ModelCheckpoint(filepath, monitor='val_acc', verbose=1, save_best_only=True, mode='max')\n",
    "callbacks_list = [checkpoint]"
   ]
  },
  {
   "cell_type": "code",
   "execution_count": null,
   "metadata": {},
   "outputs": [],
   "source": [
    "adam = Adam(lr=0.0001)\n",
    "model.compile(loss='mse',\n",
    "              optimizer=adam,\n",
    "              metrics=['mse','accuracy'])\n",
    "\n",
    "nb_epoch = 25\n",
    "batch_size = 64\n",
    "\n",
    "model.fit(imgs, targets[:]*2-1, callbacks=callbacks_list,\n",
    "\tbatch_size =batch_size, nb_epoch=nb_epoch, verbose=1,\n",
    "\tvalidation_split=0.1,shuffle=True)"
   ]
  },
  {
   "cell_type": "code",
   "execution_count": null,
   "metadata": {},
   "outputs": [],
   "source": [
    "model.save_weights('weights/model_basic_weight.hdf5')"
   ]
  }
 ],
 "metadata": {
  "kernelspec": {
   "display_name": "Python 3",
   "language": "python",
   "name": "python3"
  },
  "language_info": {
   "codemirror_mode": {
    "name": "ipython",
    "version": 3
   },
   "file_extension": ".py",
   "mimetype": "text/x-python",
   "name": "python",
   "nbconvert_exporter": "python",
   "pygments_lexer": "ipython3",
   "version": "3.6.8"
  }
 },
 "nbformat": 4,
 "nbformat_minor": 2
}
