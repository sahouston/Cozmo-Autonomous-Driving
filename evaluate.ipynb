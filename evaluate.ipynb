{
 "cells": [
  {
   "cell_type": "code",
   "execution_count": null,
   "metadata": {},
   "outputs": [],
   "source": [
    "from __future__ import absolute_import\n",
    "from __future__ import print_function\n",
    "import os\n",
    "\n",
    "\n",
    "os.environ['KERAS_BACKEND'] = 'theano'\n",
    "os.environ['THEANO_FLAGS']='mode=FAST_RUN,device=cuda0,floatX=float32,optimizer=None'\n",
    "\n",
    "\n",
    "import keras\n",
    "import keras.models as models\n",
    "\n",
    "from keras.models import Sequential, Model\n",
    "from keras.layers.core import Dense, Dropout, Activation, Flatten, Reshape\n",
    "from keras.layers import BatchNormalization,Input\n",
    "from keras.layers.recurrent import SimpleRNN, LSTM\n",
    "from keras.layers.convolutional import Convolution2D\n",
    "from keras.optimizers import SGD, Adam, RMSprop\n",
    "import sklearn.metrics as metrics\n",
    "\n",
    "from keras.callbacks import ModelCheckpoint\n",
    "\n",
    "import cv2\n",
    "import numpy as np\n",
    "import json\n",
    "\n",
    "# from Dan Does Data VLOG\n",
    "import math\n",
    "import h5py\n",
    "import glob\n",
    "from tqdm import tqdm\n",
    "import scipy\n",
    "from scipy import misc\n",
    "\n",
    "import matplotlib.pyplot as plt\n",
    "plt.ion()\n",
    "\n",
    "\n",
    "imgfiles = sorted(glob.glob('data/*-images.npz'))\n",
    "steerfiles = sorted(glob.glob('data/*-steer.npz'))\n",
    "# TODO: Handle more than one of each file (concat)\n",
    "imgs = np.load(imgfiles[0])['img_arr']\n",
    "targets = np.load(steerfiles[0])['steer_arr']\n",
    "\n",
    "print(f'Have {imgs.shape[0]} images')"
   ]
  },
  {
   "cell_type": "code",
   "execution_count": null,
   "metadata": {},
   "outputs": [],
   "source": [
    "# load the model:\n",
    "model = Sequential()\n",
    "with open('autopilot_basic_model.json') as model_file:\n",
    "    model = models.model_from_json(model_file.read())\n",
    "\n",
    "\n",
    "# load weights\n",
    "model.load_weights(\"weights/model_basic_weight.hdf5\")\n",
    "\n",
    "\n",
    "adam = Adam(lr=0.0001)\n",
    "model.compile(loss='mse',\n",
    "              optimizer=adam,\n",
    "              metrics=['mse','accuracy'])\n",
    "\n",
    "\n",
    "preds = model.predict(imgs)"
   ]
  },
  {
   "cell_type": "code",
   "execution_count": null,
   "metadata": {},
   "outputs": [],
   "source": [
    "preds = preds.reshape(len(preds)) * 1.5 # TODO: should not need to * 1.5\n",
    "plt.figure(0, figsize=(12, 10))\n",
    "plt.plot(np.array([targets[0:200], preds.reshape(len(preds))[0:200]]).T, '.')\n",
    "\n",
    "err = preds - targets\n",
    "plt.figure(1, figsize=(12, 10))\n",
    "plt.plot(err, '.')"
   ]
  }
 ],
 "metadata": {
  "kernelspec": {
   "display_name": "Python 3",
   "language": "python",
   "name": "python3"
  },
  "language_info": {
   "codemirror_mode": {
    "name": "ipython",
    "version": 3
   },
   "file_extension": ".py",
   "mimetype": "text/x-python",
   "name": "python",
   "nbconvert_exporter": "python",
   "pygments_lexer": "ipython3",
   "version": "3.6.8"
  }
 },
 "nbformat": 4,
 "nbformat_minor": 2
}
