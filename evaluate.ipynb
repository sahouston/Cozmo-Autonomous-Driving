{
 "cells": [
  {
   "cell_type": "code",
   "execution_count": null,
   "metadata": {},
   "outputs": [],
   "source": [
    "import os\n",
    "import autodrive_constants\n",
    "\n",
    "os.environ['KERAS_BACKEND'] = 'theano'\n",
    "os.environ['THEANO_FLAGS']='mode=FAST_RUN,device=cuda0,floatX=float32,optimizer=None'\n",
    "\n",
    "import keras.models as models\n",
    "from keras.models import Sequential, Model\n",
    "\n",
    "import numpy as np\n",
    "import json\n",
    "import glob\n",
    "\n",
    "import matplotlib.pyplot as plt\n",
    "plt.ion()\n",
    "\n",
    "\n",
    "imgfiles = sorted(glob.glob('data_val/*-images.npz'))\n",
    "steerfiles = sorted(glob.glob('data_val/*-steer.npz'))\n",
    "# TODO: Handle more than one of each file (concat)\n",
    "imgs = np.load(imgfiles[0])['img_arr']\n",
    "targets = np.load(steerfiles[0])['steer_arr']\n",
    "\n",
    "print(f'Have {imgs.shape[0]} images')\n",
    "\n",
    "# load the model:\n",
    "model = Sequential()\n",
    "with open('autopilot_basic_model.json') as model_file:\n",
    "    model = models.model_from_json(model_file.read())\n",
    "\n",
    "# load weights\n",
    "model.load_weights(\"weights/model_basic_weight.hdf5\")\n",
    "preds = model.predict(imgs)"
   ]
  },
  {
   "cell_type": "code",
   "execution_count": null,
   "metadata": {},
   "outputs": [],
   "source": [
    "# Plot the expected steer vs predicted steer\n",
    "preds = preds.reshape(len(preds))\n",
    "plt.figure(0, figsize=(12, 10))\n",
    "plt.plot(np.array([targets[0:1000], preds.reshape(len(preds))[0:1000]]).T, '.')\n"
   ]
  }
 ],
 "metadata": {
  "kernelspec": {
   "display_name": "Python 3",
   "language": "python",
   "name": "python3"
  },
  "language_info": {
   "codemirror_mode": {
    "name": "ipython",
    "version": 3
   },
   "file_extension": ".py",
   "mimetype": "text/x-python",
   "name": "python",
   "nbconvert_exporter": "python",
   "pygments_lexer": "ipython3",
   "version": "3.6.8"
  }
 },
 "nbformat": 4,
 "nbformat_minor": 2
}
